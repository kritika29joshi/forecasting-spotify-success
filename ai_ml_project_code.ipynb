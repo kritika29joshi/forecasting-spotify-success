{
 "cells": [
  {
   "cell_type": "code",
   "execution_count": 1,
   "id": "678e285b-3d24-4b05-bd61-ed40f3338fee",
   "metadata": {},
   "outputs": [],
   "source": [
    "import pandas as pd\n",
    "import numpy as np\n",
    "import matplotlib.pyplot as plt\n",
    "import seaborn as sns\n",
    "\n",
    "from sklearn.model_selection import train_test_split\n",
    "from sklearn.preprocessing import StandardScaler\n",
    "from sklearn.impute import SimpleImputer\n",
    "from sklearn.pipeline import Pipeline\n",
    "from sklearn.linear_model import LogisticRegression\n",
    "from sklearn.ensemble import RandomForestClassifier\n",
    "from sklearn.svm import SVC\n",
    "\n",
    "from sklearn.metrics import accuracy_score, classification_report, confusion_matrix"
   ]
  },
  {
   "cell_type": "code",
   "execution_count": 2,
   "id": "8e51d057-c5e1-4bf0-aa43-fabd8aa17571",
   "metadata": {},
   "outputs": [
    {
     "name": "stdout",
     "output_type": "stream",
     "text": [
      "Dataset shape: (41099, 20)\n"
     ]
    }
   ],
   "source": [
    "df = pd.read_csv(\"spotify_dataset.csv\")\n",
    "print(\"Dataset shape:\", df.shape)"
   ]
  },
  {
   "cell_type": "code",
   "execution_count": 5,
   "id": "9c3f942a-2879-4a30-b891-d5c7adbf903a",
   "metadata": {},
   "outputs": [],
   "source": [
    "#removing unnecessary columns\n",
    "drop_cols = ['track', 'artist', 'uri', 'decade']\n",
    "df.drop(columns=[col for col in drop_cols if col in df.columns], inplace=True)\n",
    "\n",
    "df.dropna(subset=['popularity'], inplace=True)"
   ]
  },
  {
   "cell_type": "code",
   "execution_count": 7,
   "id": "cadf5ff2-fcd3-4cc9-aa87-747c56290990",
   "metadata": {},
   "outputs": [
    {
     "data": {
      "image/png": "[encoded data removed]",
      "text/plain": [
       "<Figure size 800x500 with 1 Axes>"
      ]
     },
     "metadata": {},
     "output_type": "display_data"
    }
   ],
   "source": [
    "# popularity distribution\n",
    "plt.figure(figsize=(8, 5))\n",
    "sns.histplot(df['popularity'], bins=30, kde=True)\n",
    "plt.title(\"Popularity Distribution\")\n",
    "plt.xlabel(\"Popularity\")\n",
    "plt.ylabel(\"Count\")\n",
    "plt.show()"
   ]
  },
  {
   "cell_type": "code",
   "execution_count": 9,
   "id": "87679279-3bfa-427d-bf77-70e556828bbe",
   "metadata": {},
   "outputs": [
    {
     "name": "stdout",
     "output_type": "stream",
     "text": [
      "Class distribution:\n",
      " is_hit\n",
      "0    20551\n",
      "1    20548\n",
      "Name: count, dtype: int64\n"
     ]
    }
   ],
   "source": [
    "# binary target: is_hit\n",
    "threshold = np.percentile(df['popularity'], 75)  # top 25% as \"hit\"\n",
    "df['is_hit'] = (df['popularity'] >= threshold).astype(int)\n",
    "\n",
    "print(\"Class distribution:\\n\", df['is_hit'].value_counts())"
   ]
  },
  {
   "cell_type": "code",
   "execution_count": 11,
   "id": "e58af77b-b0d7-4b5a-a5de-e74d83906041",
   "metadata": {},
   "outputs": [],
   "source": [
    "X = df.drop(columns=['popularity', 'is_hit'])\n",
    "y = df['is_hit']\n",
    "\n",
    "X_train, X_test, y_train, y_test = train_test_split(\n",
    "    X, y, test_size=0.2, random_state=42, stratify=y)"
   ]
  },
  {
   "cell_type": "code",
   "execution_count": 13,
   "id": "cebaa5ba-086c-4390-bec1-fe32598a054f",
   "metadata": {},
   "outputs": [],
   "source": [
    "# Preprocessing pipeline\n",
    "pipeline = Pipeline([\n",
    "    (\"imputer\", SimpleImputer(strategy='mean')),\n",
    "    (\"scaler\", StandardScaler())\n",
    "])\n",
    "\n",
    "X_train_prepared = pipeline.fit_transform(X_train)\n",
    "X_test_prepared = pipeline.transform(X_test)"
   ]
  },
  {
   "cell_type": "code",
   "execution_count": 15,
   "id": "f4422d81-f9d6-4ac4-9f81-413643421031",
   "metadata": {},
   "outputs": [
    {
     "name": "stdout",
     "output_type": "stream",
     "text": [
      "\n",
      "==== Logistic Regression ====\n",
      "Accuracy: 0.733941605839416\n",
      "Confusion Matrix:\n",
      " [[2708 1402]\n",
      " [ 785 3325]]\n",
      "Classification Report:\n",
      "               precision    recall  f1-score   support\n",
      "\n",
      "           0       0.78      0.66      0.71      4110\n",
      "           1       0.70      0.81      0.75      4110\n",
      "\n",
      "    accuracy                           0.73      8220\n",
      "   macro avg       0.74      0.73      0.73      8220\n",
      "weighted avg       0.74      0.73      0.73      8220\n",
      "\n",
      "\n",
      "==== Random Forest ====\n",
      "Accuracy: 0.7952554744525547\n",
      "Confusion Matrix:\n",
      " [[3083 1027]\n",
      " [ 656 3454]]\n",
      "Classification Report:\n",
      "               precision    recall  f1-score   support\n",
      "\n",
      "           0       0.82      0.75      0.79      4110\n",
      "           1       0.77      0.84      0.80      4110\n",
      "\n",
      "    accuracy                           0.80      8220\n",
      "   macro avg       0.80      0.80      0.79      8220\n",
      "weighted avg       0.80      0.80      0.79      8220\n",
      "\n",
      "\n",
      "==== SVM ====\n",
      "Accuracy: 0.7805352798053528\n",
      "Confusion Matrix:\n",
      " [[2828 1282]\n",
      " [ 522 3588]]\n",
      "Classification Report:\n",
      "               precision    recall  f1-score   support\n",
      "\n",
      "           0       0.84      0.69      0.76      4110\n",
      "           1       0.74      0.87      0.80      4110\n",
      "\n",
      "    accuracy                           0.78      8220\n",
      "   macro avg       0.79      0.78      0.78      8220\n",
      "weighted avg       0.79      0.78      0.78      8220\n",
      "\n"
     ]
    }
   ],
   "source": [
    "models = {\n",
    "    \"Logistic Regression\": LogisticRegression(max_iter=1000),\n",
    "    \"Random Forest\": RandomForestClassifier(),\n",
    "    \"SVM\": SVC()\n",
    "}\n",
    "for name, model in models.items():\n",
    "    model.fit(X_train_prepared, y_train)\n",
    "    predictions = model.predict(X_test_prepared)\n",
    "    \n",
    "    print(f\"\\n==== {name} ====\")\n",
    "    print(\"Accuracy:\", accuracy_score(y_test, predictions))\n",
    "    print(\"Confusion Matrix:\\n\", confusion_matrix(y_test, predictions))\n",
    "    print(\"Classification Report:\\n\", classification_report(y_test, predictions))"
   ]
  },
  {
   "cell_type": "code",
   "execution_count": null,
   "id": "804e3dbb-f75d-44fa-afda-9bf65305cf71",
   "metadata": {},
   "outputs": [],
   "source": []
  }
 ],
 "metadata": {
  "kernelspec": {
   "display_name": "Python 3 (ipykernel)",
   "language": "python",
   "name": "python3"
  },
  "language_info": {
   "codemirror_mode": {
    "name": "ipython",
    "version": 3
   },
   "file_extension": ".py",
   "mimetype": "text/x-python",
   "name": "python",
   "nbconvert_exporter": "python",
   "pygments_lexer": "ipython3",
   "version": "3.12.4"
  }
 },
 "nbformat": 4,
 "nbformat_minor": 5
}
